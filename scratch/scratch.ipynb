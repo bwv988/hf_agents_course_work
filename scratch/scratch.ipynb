{
 "cells": [
  {
   "cell_type": "code",
   "execution_count": 6,
   "id": "2c5b5fee",
   "metadata": {},
   "outputs": [
    {
     "name": "stdout",
     "output_type": "stream",
     "text": [
      "Requirement already satisfied: langgraph in ./opt/anaconda3/lib/python3.12/site-packages (0.4.3)\n",
      "Requirement already satisfied: langsmith in ./opt/anaconda3/lib/python3.12/site-packages (0.3.42)\n",
      "Requirement already satisfied: langchain-ollama in ./opt/anaconda3/lib/python3.12/site-packages (0.3.2)\n",
      "Requirement already satisfied: langchain-core>=0.1 in ./opt/anaconda3/lib/python3.12/site-packages (from langgraph) (0.3.59)\n",
      "Requirement already satisfied: langgraph-checkpoint<3.0.0,>=2.0.10 in ./opt/anaconda3/lib/python3.12/site-packages (from langgraph) (2.0.25)\n",
      "Requirement already satisfied: langgraph-prebuilt>=0.1.8 in ./opt/anaconda3/lib/python3.12/site-packages (from langgraph) (0.1.8)\n",
      "Requirement already satisfied: langgraph-sdk>=0.1.42 in ./opt/anaconda3/lib/python3.12/site-packages (from langgraph) (0.1.66)\n",
      "Requirement already satisfied: pydantic>=2.7.4 in ./opt/anaconda3/lib/python3.12/site-packages (from langgraph) (2.11.3)\n",
      "Requirement already satisfied: xxhash<4.0.0,>=3.5.0 in ./opt/anaconda3/lib/python3.12/site-packages (from langgraph) (3.5.0)\n",
      "Requirement already satisfied: httpx<1,>=0.23.0 in ./opt/anaconda3/lib/python3.12/site-packages (from langsmith) (0.27.0)\n",
      "Requirement already satisfied: orjson<4.0.0,>=3.9.14 in ./opt/anaconda3/lib/python3.12/site-packages (from langsmith) (3.10.16)\n",
      "Requirement already satisfied: packaging>=23.2 in ./opt/anaconda3/lib/python3.12/site-packages (from langsmith) (24.2)\n",
      "Requirement already satisfied: requests<3,>=2 in ./opt/anaconda3/lib/python3.12/site-packages (from langsmith) (2.32.3)\n",
      "Requirement already satisfied: requests-toolbelt<2.0.0,>=1.0.0 in ./opt/anaconda3/lib/python3.12/site-packages (from langsmith) (1.0.0)\n",
      "Requirement already satisfied: zstandard<0.24.0,>=0.23.0 in ./opt/anaconda3/lib/python3.12/site-packages (from langsmith) (0.23.0)\n",
      "Requirement already satisfied: ollama<1,>=0.4.4 in ./opt/anaconda3/lib/python3.12/site-packages (from langchain-ollama) (0.4.8)\n",
      "Requirement already satisfied: anyio in ./opt/anaconda3/lib/python3.12/site-packages (from httpx<1,>=0.23.0->langsmith) (4.9.0)\n",
      "Requirement already satisfied: certifi in ./opt/anaconda3/lib/python3.12/site-packages (from httpx<1,>=0.23.0->langsmith) (2025.1.31)\n",
      "Requirement already satisfied: httpcore==1.* in ./opt/anaconda3/lib/python3.12/site-packages (from httpx<1,>=0.23.0->langsmith) (1.0.2)\n",
      "Requirement already satisfied: idna in ./opt/anaconda3/lib/python3.12/site-packages (from httpx<1,>=0.23.0->langsmith) (3.7)\n",
      "Requirement already satisfied: sniffio in ./opt/anaconda3/lib/python3.12/site-packages (from httpx<1,>=0.23.0->langsmith) (1.3.0)\n",
      "Requirement already satisfied: h11<0.15,>=0.13 in ./opt/anaconda3/lib/python3.12/site-packages (from httpcore==1.*->httpx<1,>=0.23.0->langsmith) (0.14.0)\n",
      "Requirement already satisfied: tenacity!=8.4.0,<10.0.0,>=8.1.0 in ./opt/anaconda3/lib/python3.12/site-packages (from langchain-core>=0.1->langgraph) (9.0.0)\n",
      "Requirement already satisfied: jsonpatch<2.0,>=1.33 in ./opt/anaconda3/lib/python3.12/site-packages (from langchain-core>=0.1->langgraph) (1.33)\n",
      "Requirement already satisfied: PyYAML>=5.3 in ./opt/anaconda3/lib/python3.12/site-packages (from langchain-core>=0.1->langgraph) (6.0.2)\n",
      "Requirement already satisfied: typing-extensions>=4.7 in ./opt/anaconda3/lib/python3.12/site-packages (from langchain-core>=0.1->langgraph) (4.12.2)\n",
      "Requirement already satisfied: ormsgpack<2.0.0,>=1.8.0 in ./opt/anaconda3/lib/python3.12/site-packages (from langgraph-checkpoint<3.0.0,>=2.0.10->langgraph) (1.9.1)\n",
      "Requirement already satisfied: annotated-types>=0.6.0 in ./opt/anaconda3/lib/python3.12/site-packages (from pydantic>=2.7.4->langgraph) (0.6.0)\n",
      "Requirement already satisfied: pydantic-core==2.33.1 in ./opt/anaconda3/lib/python3.12/site-packages (from pydantic>=2.7.4->langgraph) (2.33.1)\n",
      "Requirement already satisfied: typing-inspection>=0.4.0 in ./opt/anaconda3/lib/python3.12/site-packages (from pydantic>=2.7.4->langgraph) (0.4.0)\n",
      "Requirement already satisfied: charset-normalizer<4,>=2 in ./opt/anaconda3/lib/python3.12/site-packages (from requests<3,>=2->langsmith) (3.3.2)\n",
      "Requirement already satisfied: urllib3<3,>=1.21.1 in ./opt/anaconda3/lib/python3.12/site-packages (from requests<3,>=2->langsmith) (2.3.0)\n",
      "Requirement already satisfied: jsonpointer>=1.9 in ./opt/anaconda3/lib/python3.12/site-packages (from jsonpatch<2.0,>=1.33->langchain-core>=0.1->langgraph) (2.1)\n",
      "Note: you may need to restart the kernel to use updated packages.\n"
     ]
    }
   ],
   "source": [
    "%pip install -U langgraph langsmith langchain-ollama"
   ]
  },
  {
   "cell_type": "code",
   "execution_count": 8,
   "id": "fd4994c4",
   "metadata": {},
   "outputs": [
    {
     "name": "stdout",
     "output_type": "stream",
     "text": [
      "Requirement already satisfied: langchain_core in ./opt/anaconda3/lib/python3.12/site-packages (0.3.59)\n",
      "Requirement already satisfied: langchain_ollama in ./opt/anaconda3/lib/python3.12/site-packages (0.3.2)\n",
      "Requirement already satisfied: langsmith<0.4,>=0.1.125 in ./opt/anaconda3/lib/python3.12/site-packages (from langchain_core) (0.3.42)\n",
      "Requirement already satisfied: tenacity!=8.4.0,<10.0.0,>=8.1.0 in ./opt/anaconda3/lib/python3.12/site-packages (from langchain_core) (9.0.0)\n",
      "Requirement already satisfied: jsonpatch<2.0,>=1.33 in ./opt/anaconda3/lib/python3.12/site-packages (from langchain_core) (1.33)\n",
      "Requirement already satisfied: PyYAML>=5.3 in ./opt/anaconda3/lib/python3.12/site-packages (from langchain_core) (6.0.2)\n",
      "Requirement already satisfied: packaging<25,>=23.2 in ./opt/anaconda3/lib/python3.12/site-packages (from langchain_core) (24.2)\n",
      "Requirement already satisfied: typing-extensions>=4.7 in ./opt/anaconda3/lib/python3.12/site-packages (from langchain_core) (4.12.2)\n",
      "Requirement already satisfied: pydantic<3.0.0,>=2.7.4 in ./opt/anaconda3/lib/python3.12/site-packages (from langchain_core) (2.11.3)\n",
      "Requirement already satisfied: ollama<1,>=0.4.4 in ./opt/anaconda3/lib/python3.12/site-packages (from langchain_ollama) (0.4.8)\n",
      "Requirement already satisfied: jsonpointer>=1.9 in ./opt/anaconda3/lib/python3.12/site-packages (from jsonpatch<2.0,>=1.33->langchain_core) (2.1)\n",
      "Requirement already satisfied: httpx<1,>=0.23.0 in ./opt/anaconda3/lib/python3.12/site-packages (from langsmith<0.4,>=0.1.125->langchain_core) (0.27.0)\n",
      "Requirement already satisfied: orjson<4.0.0,>=3.9.14 in ./opt/anaconda3/lib/python3.12/site-packages (from langsmith<0.4,>=0.1.125->langchain_core) (3.10.16)\n",
      "Requirement already satisfied: requests<3,>=2 in ./opt/anaconda3/lib/python3.12/site-packages (from langsmith<0.4,>=0.1.125->langchain_core) (2.32.3)\n",
      "Requirement already satisfied: requests-toolbelt<2.0.0,>=1.0.0 in ./opt/anaconda3/lib/python3.12/site-packages (from langsmith<0.4,>=0.1.125->langchain_core) (1.0.0)\n",
      "Requirement already satisfied: zstandard<0.24.0,>=0.23.0 in ./opt/anaconda3/lib/python3.12/site-packages (from langsmith<0.4,>=0.1.125->langchain_core) (0.23.0)\n",
      "Requirement already satisfied: annotated-types>=0.6.0 in ./opt/anaconda3/lib/python3.12/site-packages (from pydantic<3.0.0,>=2.7.4->langchain_core) (0.6.0)\n",
      "Requirement already satisfied: pydantic-core==2.33.1 in ./opt/anaconda3/lib/python3.12/site-packages (from pydantic<3.0.0,>=2.7.4->langchain_core) (2.33.1)\n",
      "Requirement already satisfied: typing-inspection>=0.4.0 in ./opt/anaconda3/lib/python3.12/site-packages (from pydantic<3.0.0,>=2.7.4->langchain_core) (0.4.0)\n",
      "Requirement already satisfied: anyio in ./opt/anaconda3/lib/python3.12/site-packages (from httpx<1,>=0.23.0->langsmith<0.4,>=0.1.125->langchain_core) (4.9.0)\n",
      "Requirement already satisfied: certifi in ./opt/anaconda3/lib/python3.12/site-packages (from httpx<1,>=0.23.0->langsmith<0.4,>=0.1.125->langchain_core) (2025.1.31)\n",
      "Requirement already satisfied: httpcore==1.* in ./opt/anaconda3/lib/python3.12/site-packages (from httpx<1,>=0.23.0->langsmith<0.4,>=0.1.125->langchain_core) (1.0.2)\n",
      "Requirement already satisfied: idna in ./opt/anaconda3/lib/python3.12/site-packages (from httpx<1,>=0.23.0->langsmith<0.4,>=0.1.125->langchain_core) (3.7)\n",
      "Requirement already satisfied: sniffio in ./opt/anaconda3/lib/python3.12/site-packages (from httpx<1,>=0.23.0->langsmith<0.4,>=0.1.125->langchain_core) (1.3.0)\n",
      "Requirement already satisfied: h11<0.15,>=0.13 in ./opt/anaconda3/lib/python3.12/site-packages (from httpcore==1.*->httpx<1,>=0.23.0->langsmith<0.4,>=0.1.125->langchain_core) (0.14.0)\n",
      "Requirement already satisfied: charset-normalizer<4,>=2 in ./opt/anaconda3/lib/python3.12/site-packages (from requests<3,>=2->langsmith<0.4,>=0.1.125->langchain_core) (3.3.2)\n",
      "Requirement already satisfied: urllib3<3,>=1.21.1 in ./opt/anaconda3/lib/python3.12/site-packages (from requests<3,>=2->langsmith<0.4,>=0.1.125->langchain_core) (2.3.0)\n",
      "Note: you may need to restart the kernel to use updated packages.\n"
     ]
    }
   ],
   "source": [
    "%pip install -U langchain_core langchain_ollama"
   ]
  },
  {
   "cell_type": "code",
   "execution_count": 1,
   "id": "a92f259a",
   "metadata": {},
   "outputs": [],
   "source": [
    "from langchain_ollama import ChatOllama\n",
    "\n",
    "llm = ChatOllama(\n",
    "    model=\"qwen3:latest\",\n",
    "    temperature=0,\n",
    "    # other params...\n",
    ")"
   ]
  },
  {
   "cell_type": "code",
   "execution_count": null,
   "id": "3689ddce",
   "metadata": {},
   "outputs": [
    {
     "data": {
      "text/plain": [
       "ChatOllama(model='qwen3:latest', temperature=0.0)"
      ]
     },
     "execution_count": 2,
     "metadata": {},
     "output_type": "execute_result"
    }
   ],
   "source": []
  },
  {
   "cell_type": "code",
   "execution_count": null,
   "id": "cc999b33",
   "metadata": {},
   "outputs": [],
   "source": [
    "from langgraph.prebuilt import create_react_agent\n",
    "\n",
    "def get_weather(city: str) -> str:\n",
    "    \"\"\"Get weather for a given city.\"\"\"\n",
    "    return f\"It's always sunny in {city}!\"\n",
    "\n",
    "agent = create_react_agent(\n",
    "    model=\"anthropic:claude-3-7-sonnet-latest\",\n",
    "    tools=[get_weather],\n",
    "    prompt=\"You are a helpful assistant\"\n",
    ")\n",
    "\n",
    "# Run the agent\n",
    "agent.invoke(\n",
    "    {\"messages\": [{\"role\": \"user\", \"content\": \"what is the weather in sf\"}]}\n",
    ")"
   ]
  }
 ],
 "metadata": {
  "kernelspec": {
   "display_name": "Python 3 (ipykernel)",
   "language": "python",
   "name": "python3"
  },
  "language_info": {
   "codemirror_mode": {
    "name": "ipython",
    "version": 3
   },
   "file_extension": ".py",
   "mimetype": "text/x-python",
   "name": "python",
   "nbconvert_exporter": "python",
   "pygments_lexer": "ipython3",
   "version": "3.12.4"
  }
 },
 "nbformat": 4,
 "nbformat_minor": 5
}
