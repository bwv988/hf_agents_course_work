{
 "cells": [
  {
   "cell_type": "markdown",
   "id": "8f41f6a0",
   "metadata": {},
   "source": [
    "## Debugging a code agent locally"
   ]
  },
  {
   "cell_type": "code",
   "execution_count": 6,
   "id": "6f1dbde2",
   "metadata": {},
   "outputs": [
    {
     "name": "stdout",
     "output_type": "stream",
     "text": [
      "Collecting duckduckgo-search\n",
      "  Downloading duckduckgo_search-8.0.2-py3-none-any.whl.metadata (16 kB)\n",
      "Requirement already satisfied: smolagents[litellm] in ./opt/miniconda3/lib/python3.12/site-packages (1.17.0)\n",
      "Requirement already satisfied: huggingface-hub>=0.31.2 in ./opt/miniconda3/lib/python3.12/site-packages (from smolagents[litellm]) (0.31.2)\n",
      "Requirement already satisfied: requests>=2.32.3 in ./opt/miniconda3/lib/python3.12/site-packages (from smolagents[litellm]) (2.32.3)\n",
      "Requirement already satisfied: rich>=13.9.4 in ./opt/miniconda3/lib/python3.12/site-packages (from smolagents[litellm]) (13.9.4)\n",
      "Requirement already satisfied: jinja2>=3.1.4 in ./opt/miniconda3/lib/python3.12/site-packages (from smolagents[litellm]) (3.1.6)\n",
      "Requirement already satisfied: pillow>=10.0.1 in ./opt/miniconda3/lib/python3.12/site-packages (from smolagents[litellm]) (11.1.0)\n",
      "Requirement already satisfied: python-dotenv in ./opt/miniconda3/lib/python3.12/site-packages (from smolagents[litellm]) (1.1.0)\n",
      "Requirement already satisfied: litellm>=1.60.2 in ./opt/miniconda3/lib/python3.12/site-packages (from smolagents[litellm]) (1.71.2)\n",
      "Requirement already satisfied: click>=8.1.8 in ./opt/miniconda3/lib/python3.12/site-packages (from duckduckgo-search) (8.2.1)\n",
      "Collecting primp>=0.15.0 (from duckduckgo-search)\n",
      "  Downloading primp-0.15.0-cp38-abi3-manylinux_2_17_x86_64.manylinux2014_x86_64.whl.metadata (13 kB)\n",
      "Collecting lxml>=5.3.0 (from duckduckgo-search)\n",
      "  Downloading lxml-5.4.0-cp312-cp312-manylinux_2_28_x86_64.whl.metadata (3.5 kB)\n",
      "Requirement already satisfied: filelock in ./opt/miniconda3/lib/python3.12/site-packages (from huggingface-hub>=0.31.2->smolagents[litellm]) (3.17.0)\n",
      "Requirement already satisfied: fsspec>=2023.5.0 in ./opt/miniconda3/lib/python3.12/site-packages (from huggingface-hub>=0.31.2->smolagents[litellm]) (2024.12.0)\n",
      "Requirement already satisfied: packaging>=20.9 in ./opt/miniconda3/lib/python3.12/site-packages (from huggingface-hub>=0.31.2->smolagents[litellm]) (24.2)\n",
      "Requirement already satisfied: pyyaml>=5.1 in ./opt/miniconda3/lib/python3.12/site-packages (from huggingface-hub>=0.31.2->smolagents[litellm]) (6.0.2)\n",
      "Requirement already satisfied: tqdm>=4.42.1 in ./opt/miniconda3/lib/python3.12/site-packages (from huggingface-hub>=0.31.2->smolagents[litellm]) (4.67.1)\n",
      "Requirement already satisfied: typing-extensions>=3.7.4.3 in ./opt/miniconda3/lib/python3.12/site-packages (from huggingface-hub>=0.31.2->smolagents[litellm]) (4.12.2)\n",
      "Requirement already satisfied: MarkupSafe>=2.0 in ./opt/miniconda3/lib/python3.12/site-packages (from jinja2>=3.1.4->smolagents[litellm]) (3.0.2)\n",
      "Requirement already satisfied: aiohttp in ./opt/miniconda3/lib/python3.12/site-packages (from litellm>=1.60.2->smolagents[litellm]) (3.11.10)\n",
      "Requirement already satisfied: httpx>=0.23.0 in ./opt/miniconda3/lib/python3.12/site-packages (from litellm>=1.60.2->smolagents[litellm]) (0.28.1)\n",
      "Requirement already satisfied: importlib-metadata>=6.8.0 in ./opt/miniconda3/lib/python3.12/site-packages (from litellm>=1.60.2->smolagents[litellm]) (8.5.0)\n",
      "Requirement already satisfied: jsonschema<5.0.0,>=4.22.0 in ./opt/miniconda3/lib/python3.12/site-packages (from litellm>=1.60.2->smolagents[litellm]) (4.23.0)\n",
      "Requirement already satisfied: openai>=1.68.2 in ./opt/miniconda3/lib/python3.12/site-packages (from litellm>=1.60.2->smolagents[litellm]) (1.82.1)\n",
      "Requirement already satisfied: pydantic<3.0.0,>=2.0.0 in ./opt/miniconda3/lib/python3.12/site-packages (from litellm>=1.60.2->smolagents[litellm]) (2.10.3)\n",
      "Requirement already satisfied: tiktoken>=0.7.0 in ./opt/miniconda3/lib/python3.12/site-packages (from litellm>=1.60.2->smolagents[litellm]) (0.9.0)\n",
      "Requirement already satisfied: tokenizers in ./opt/miniconda3/lib/python3.12/site-packages (from litellm>=1.60.2->smolagents[litellm]) (0.20.1)\n",
      "Requirement already satisfied: attrs>=22.2.0 in ./opt/miniconda3/lib/python3.12/site-packages (from jsonschema<5.0.0,>=4.22.0->litellm>=1.60.2->smolagents[litellm]) (24.3.0)\n",
      "Requirement already satisfied: jsonschema-specifications>=2023.03.6 in ./opt/miniconda3/lib/python3.12/site-packages (from jsonschema<5.0.0,>=4.22.0->litellm>=1.60.2->smolagents[litellm]) (2023.7.1)\n",
      "Requirement already satisfied: referencing>=0.28.4 in ./opt/miniconda3/lib/python3.12/site-packages (from jsonschema<5.0.0,>=4.22.0->litellm>=1.60.2->smolagents[litellm]) (0.30.2)\n",
      "Requirement already satisfied: rpds-py>=0.7.1 in ./opt/miniconda3/lib/python3.12/site-packages (from jsonschema<5.0.0,>=4.22.0->litellm>=1.60.2->smolagents[litellm]) (0.22.3)\n",
      "Requirement already satisfied: annotated-types>=0.6.0 in ./opt/miniconda3/lib/python3.12/site-packages (from pydantic<3.0.0,>=2.0.0->litellm>=1.60.2->smolagents[litellm]) (0.6.0)\n",
      "Requirement already satisfied: pydantic-core==2.27.1 in ./opt/miniconda3/lib/python3.12/site-packages (from pydantic<3.0.0,>=2.0.0->litellm>=1.60.2->smolagents[litellm]) (2.27.1)\n",
      "Requirement already satisfied: anyio in ./opt/miniconda3/lib/python3.12/site-packages (from httpx>=0.23.0->litellm>=1.60.2->smolagents[litellm]) (4.7.0)\n",
      "Requirement already satisfied: certifi in ./opt/miniconda3/lib/python3.12/site-packages (from httpx>=0.23.0->litellm>=1.60.2->smolagents[litellm]) (2025.4.26)\n",
      "Requirement already satisfied: httpcore==1.* in ./opt/miniconda3/lib/python3.12/site-packages (from httpx>=0.23.0->litellm>=1.60.2->smolagents[litellm]) (1.0.2)\n",
      "Requirement already satisfied: idna in ./opt/miniconda3/lib/python3.12/site-packages (from httpx>=0.23.0->litellm>=1.60.2->smolagents[litellm]) (3.7)\n",
      "Requirement already satisfied: h11<0.15,>=0.13 in ./opt/miniconda3/lib/python3.12/site-packages (from httpcore==1.*->httpx>=0.23.0->litellm>=1.60.2->smolagents[litellm]) (0.14.0)\n",
      "Requirement already satisfied: zipp>=3.20 in ./opt/miniconda3/lib/python3.12/site-packages (from importlib-metadata>=6.8.0->litellm>=1.60.2->smolagents[litellm]) (3.21.0)\n",
      "Requirement already satisfied: distro<2,>=1.7.0 in ./opt/miniconda3/lib/python3.12/site-packages (from openai>=1.68.2->litellm>=1.60.2->smolagents[litellm]) (1.9.0)\n",
      "Requirement already satisfied: jiter<1,>=0.4.0 in ./opt/miniconda3/lib/python3.12/site-packages (from openai>=1.68.2->litellm>=1.60.2->smolagents[litellm]) (0.10.0)\n",
      "Requirement already satisfied: sniffio in ./opt/miniconda3/lib/python3.12/site-packages (from openai>=1.68.2->litellm>=1.60.2->smolagents[litellm]) (1.3.0)\n",
      "Requirement already satisfied: charset-normalizer<4,>=2 in ./opt/miniconda3/lib/python3.12/site-packages (from requests>=2.32.3->smolagents[litellm]) (3.3.2)\n",
      "Requirement already satisfied: urllib3<3,>=1.21.1 in ./opt/miniconda3/lib/python3.12/site-packages (from requests>=2.32.3->smolagents[litellm]) (2.3.0)\n",
      "Requirement already satisfied: markdown-it-py>=2.2.0 in ./opt/miniconda3/lib/python3.12/site-packages (from rich>=13.9.4->smolagents[litellm]) (2.2.0)\n",
      "Requirement already satisfied: pygments<3.0.0,>=2.13.0 in ./opt/miniconda3/lib/python3.12/site-packages (from rich>=13.9.4->smolagents[litellm]) (2.19.1)\n",
      "Requirement already satisfied: mdurl~=0.1 in ./opt/miniconda3/lib/python3.12/site-packages (from markdown-it-py>=2.2.0->rich>=13.9.4->smolagents[litellm]) (0.1.0)\n",
      "Requirement already satisfied: regex>=2022.1.18 in ./opt/miniconda3/lib/python3.12/site-packages (from tiktoken>=0.7.0->litellm>=1.60.2->smolagents[litellm]) (2024.11.6)\n",
      "Requirement already satisfied: aiohappyeyeballs>=2.3.0 in ./opt/miniconda3/lib/python3.12/site-packages (from aiohttp->litellm>=1.60.2->smolagents[litellm]) (2.4.4)\n",
      "Requirement already satisfied: aiosignal>=1.1.2 in ./opt/miniconda3/lib/python3.12/site-packages (from aiohttp->litellm>=1.60.2->smolagents[litellm]) (1.2.0)\n",
      "Requirement already satisfied: frozenlist>=1.1.1 in ./opt/miniconda3/lib/python3.12/site-packages (from aiohttp->litellm>=1.60.2->smolagents[litellm]) (1.5.0)\n",
      "Requirement already satisfied: multidict<7.0,>=4.5 in ./opt/miniconda3/lib/python3.12/site-packages (from aiohttp->litellm>=1.60.2->smolagents[litellm]) (6.1.0)\n",
      "Requirement already satisfied: propcache>=0.2.0 in ./opt/miniconda3/lib/python3.12/site-packages (from aiohttp->litellm>=1.60.2->smolagents[litellm]) (0.3.1)\n",
      "Requirement already satisfied: yarl<2.0,>=1.17.0 in ./opt/miniconda3/lib/python3.12/site-packages (from aiohttp->litellm>=1.60.2->smolagents[litellm]) (1.18.0)\n",
      "Downloading duckduckgo_search-8.0.2-py3-none-any.whl (18 kB)\n",
      "Downloading lxml-5.4.0-cp312-cp312-manylinux_2_28_x86_64.whl (5.0 MB)\n",
      "\u001b[2K   \u001b[90m━━━━━━━━━━━━━━━━━━━━━━━━━━━━━━━━━━━━━━━━\u001b[0m \u001b[32m5.0/5.0 MB\u001b[0m \u001b[31m4.8 MB/s\u001b[0m eta \u001b[36m0:00:00\u001b[0ma \u001b[36m0:00:01\u001b[0m\n",
      "\u001b[?25hDownloading primp-0.15.0-cp38-abi3-manylinux_2_17_x86_64.manylinux2014_x86_64.whl (3.3 MB)\n",
      "\u001b[2K   \u001b[90m━━━━━━━━━━━━━━━━━━━━━━━━━━━━━━━━━━━━━━━━\u001b[0m \u001b[32m3.3/3.3 MB\u001b[0m \u001b[31m4.7 MB/s\u001b[0m eta \u001b[36m0:00:00\u001b[0ma \u001b[36m0:00:01\u001b[0m\n",
      "\u001b[?25hInstalling collected packages: primp, lxml, duckduckgo-search\n",
      "\u001b[2K   \u001b[90m━━━━━━━━━━━━━━━━━━━━━━━━━━━━━━━━━━━━━━━━\u001b[0m \u001b[32m3/3\u001b[0m [duckduckgo-search]lxml]\n",
      "\u001b[1A\u001b[2KSuccessfully installed duckduckgo-search-8.0.2 lxml-5.4.0 primp-0.15.0\n",
      "Note: you may need to restart the kernel to use updated packages.\n"
     ]
    }
   ],
   "source": [
    "%pip install -U smolagents[litellm] duckduckgo-search"
   ]
  },
  {
   "cell_type": "code",
   "execution_count": 5,
   "id": "fd778f4b",
   "metadata": {},
   "outputs": [],
   "source": [
    "from smolagents import LiteLLMModel\n",
    "\n",
    "model = LiteLLMModel(\n",
    "        model_id=\"ollama_chat/qwen2.5-coder:14b\",  # Or try other Ollama-supported models\n",
    "        api_base=\"http://127.0.0.1:11434\",  # Default Ollama local server\n",
    "        num_ctx=8192,\n",
    ")"
   ]
  },
  {
   "cell_type": "code",
   "execution_count": 2,
   "id": "30e0ee48",
   "metadata": {},
   "outputs": [],
   "source": [
    "from smolagents import Tool\n",
    "\n",
    "class BestOsTool(Tool):\n",
    "    name = \"best_os\"\n",
    "    description = \"Provides a biased recommendation for the best operating system.\"\n",
    "    inputs = {\n",
    "        \"question\": {\n",
    "            \"type\": \"string\",\n",
    "            \"description\": \"A question related to operating systems or preferences for OS.\"\n",
    "        }\n",
    "    }\n",
    "    output_type = \"string\"\n",
    "\n",
    "    def forward(self, question: str):\n",
    "        # Simple logic to recommend an OS based on preferences\n",
    "        return \"Linux is simply the best. All other OSes are weak. macOS isn't half bad, but Linux is much better.\""
   ]
  },
  {
   "cell_type": "code",
   "execution_count": 3,
   "id": "0fe2f952",
   "metadata": {},
   "outputs": [],
   "source": [
    "best_os_tool = BestOsTool()"
   ]
  },
  {
   "cell_type": "code",
   "execution_count": 6,
   "id": "9c3e4d5e",
   "metadata": {},
   "outputs": [
    {
     "data": {
      "text/html": [
       "<pre style=\"white-space:pre;overflow-x:auto;line-height:normal;font-family:Menlo,'DejaVu Sans Mono',consolas,'Courier New',monospace\"><span style=\"color: #d4b702; text-decoration-color: #d4b702\">╭──────────────────────────────────────────────────── </span><span style=\"color: #d4b702; text-decoration-color: #d4b702; font-weight: bold\">New run</span><span style=\"color: #d4b702; text-decoration-color: #d4b702\"> ────────────────────────────────────────────────────╮</span>\n",
       "<span style=\"color: #d4b702; text-decoration-color: #d4b702\">│</span>                                                                                                                 <span style=\"color: #d4b702; text-decoration-color: #d4b702\">│</span>\n",
       "<span style=\"color: #d4b702; text-decoration-color: #d4b702\">│</span> <span style=\"font-weight: bold\">What is the best operating system?</span>                                                                              <span style=\"color: #d4b702; text-decoration-color: #d4b702\">│</span>\n",
       "<span style=\"color: #d4b702; text-decoration-color: #d4b702\">│</span>                                                                                                                 <span style=\"color: #d4b702; text-decoration-color: #d4b702\">│</span>\n",
       "<span style=\"color: #d4b702; text-decoration-color: #d4b702\">╰─ LiteLLMModel - ollama_chat/qwen2.5-coder:14b ──────────────────────────────────────────────────────────────────╯</span>\n",
       "</pre>\n"
      ],
      "text/plain": [
       "\u001b[38;2;212;183;2m╭─\u001b[0m\u001b[38;2;212;183;2m───────────────────────────────────────────────────\u001b[0m\u001b[38;2;212;183;2m \u001b[0m\u001b[1;38;2;212;183;2mNew run\u001b[0m\u001b[38;2;212;183;2m \u001b[0m\u001b[38;2;212;183;2m───────────────────────────────────────────────────\u001b[0m\u001b[38;2;212;183;2m─╮\u001b[0m\n",
       "\u001b[38;2;212;183;2m│\u001b[0m                                                                                                                 \u001b[38;2;212;183;2m│\u001b[0m\n",
       "\u001b[38;2;212;183;2m│\u001b[0m \u001b[1mWhat is the best operating system?\u001b[0m                                                                              \u001b[38;2;212;183;2m│\u001b[0m\n",
       "\u001b[38;2;212;183;2m│\u001b[0m                                                                                                                 \u001b[38;2;212;183;2m│\u001b[0m\n",
       "\u001b[38;2;212;183;2m╰─\u001b[0m\u001b[38;2;212;183;2m LiteLLMModel - ollama_chat/qwen2.5-coder:14b \u001b[0m\u001b[38;2;212;183;2m─────────────────────────────────────────────────────────────────\u001b[0m\u001b[38;2;212;183;2m─╯\u001b[0m\n"
      ]
     },
     "metadata": {},
     "output_type": "display_data"
    },
    {
     "data": {
      "text/html": [
       "<pre style=\"white-space:pre;overflow-x:auto;line-height:normal;font-family:Menlo,'DejaVu Sans Mono',consolas,'Courier New',monospace\"><span style=\"color: #d4b702; text-decoration-color: #d4b702\">━━━━━━━━━━━━━━━━━━━━━━━━━━━━━━━━━━━━━━━━━━━━━━━━━━━━━ </span><span style=\"font-weight: bold\">Step </span><span style=\"color: #008080; text-decoration-color: #008080; font-weight: bold\">1</span><span style=\"color: #d4b702; text-decoration-color: #d4b702\"> ━━━━━━━━━━━━━━━━━━━━━━━━━━━━━━━━━━━━━━━━━━━━━━━━━━━━━━</span>\n",
       "</pre>\n"
      ],
      "text/plain": [
       "\u001b[38;2;212;183;2m━━━━━━━━━━━━━━━━━━━━━━━━━━━━━━━━━━━━━━━━━━━━━━━━━━━━━ \u001b[0m\u001b[1mStep \u001b[0m\u001b[1;36m1\u001b[0m\u001b[38;2;212;183;2m ━━━━━━━━━━━━━━━━━━━━━━━━━━━━━━━━━━━━━━━━━━━━━━━━━━━━━━\u001b[0m\n"
      ]
     },
     "metadata": {},
     "output_type": "display_data"
    },
    {
     "data": {
      "text/html": [
       "<pre style=\"white-space:pre;overflow-x:auto;line-height:normal;font-family:Menlo,'DejaVu Sans Mono',consolas,'Courier New',monospace\"> ─ <span style=\"font-weight: bold\">Executing parsed code:</span> ──────────────────────────────────────────────────────────────────────────────────────── \n",
       "  <span style=\"color: #f8f8f2; text-decoration-color: #f8f8f2; background-color: #272822\">question </span><span style=\"color: #ff4689; text-decoration-color: #ff4689; background-color: #272822\">=</span><span style=\"color: #f8f8f2; text-decoration-color: #f8f8f2; background-color: #272822\"> </span><span style=\"color: #e6db74; text-decoration-color: #e6db74; background-color: #272822\">\"Which operating system is generally considered the best?\"</span><span style=\"background-color: #272822\">                                          </span>  \n",
       "  <span style=\"color: #f8f8f2; text-decoration-color: #f8f8f2; background-color: #272822\">best_os_result </span><span style=\"color: #ff4689; text-decoration-color: #ff4689; background-color: #272822\">=</span><span style=\"color: #f8f8f2; text-decoration-color: #f8f8f2; background-color: #272822\"> best_os(question</span><span style=\"color: #ff4689; text-decoration-color: #ff4689; background-color: #272822\">=</span><span style=\"color: #f8f8f2; text-decoration-color: #f8f8f2; background-color: #272822\">question)</span><span style=\"background-color: #272822\">                                                                    </span>  \n",
       "  <span style=\"color: #f8f8f2; text-decoration-color: #f8f8f2; background-color: #272822\">print(</span><span style=\"color: #e6db74; text-decoration-color: #e6db74; background-color: #272822\">f\"The recommended best operating system is: {</span><span style=\"color: #f8f8f2; text-decoration-color: #f8f8f2; background-color: #272822\">best_os_result</span><span style=\"color: #e6db74; text-decoration-color: #e6db74; background-color: #272822\">}\"</span><span style=\"color: #f8f8f2; text-decoration-color: #f8f8f2; background-color: #272822\">)</span><span style=\"background-color: #272822\">                                           </span>  \n",
       "  <span style=\"color: #f8f8f2; text-decoration-color: #f8f8f2; background-color: #272822\">final_answer(best_os_result)</span><span style=\"background-color: #272822\">                                                                                   </span>  \n",
       " ───────────────────────────────────────────────────────────────────────────────────────────────────────────────── \n",
       "</pre>\n"
      ],
      "text/plain": [
       " ─ \u001b[1mExecuting parsed code:\u001b[0m ──────────────────────────────────────────────────────────────────────────────────────── \n",
       "  \u001b[38;2;248;248;242;48;2;39;40;34mquestion\u001b[0m\u001b[38;2;248;248;242;48;2;39;40;34m \u001b[0m\u001b[38;2;255;70;137;48;2;39;40;34m=\u001b[0m\u001b[38;2;248;248;242;48;2;39;40;34m \u001b[0m\u001b[38;2;230;219;116;48;2;39;40;34m\"\u001b[0m\u001b[38;2;230;219;116;48;2;39;40;34mWhich operating system is generally considered the best?\u001b[0m\u001b[38;2;230;219;116;48;2;39;40;34m\"\u001b[0m\u001b[48;2;39;40;34m                                          \u001b[0m  \n",
       "  \u001b[38;2;248;248;242;48;2;39;40;34mbest_os_result\u001b[0m\u001b[38;2;248;248;242;48;2;39;40;34m \u001b[0m\u001b[38;2;255;70;137;48;2;39;40;34m=\u001b[0m\u001b[38;2;248;248;242;48;2;39;40;34m \u001b[0m\u001b[38;2;248;248;242;48;2;39;40;34mbest_os\u001b[0m\u001b[38;2;248;248;242;48;2;39;40;34m(\u001b[0m\u001b[38;2;248;248;242;48;2;39;40;34mquestion\u001b[0m\u001b[38;2;255;70;137;48;2;39;40;34m=\u001b[0m\u001b[38;2;248;248;242;48;2;39;40;34mquestion\u001b[0m\u001b[38;2;248;248;242;48;2;39;40;34m)\u001b[0m\u001b[48;2;39;40;34m                                                                    \u001b[0m  \n",
       "  \u001b[38;2;248;248;242;48;2;39;40;34mprint\u001b[0m\u001b[38;2;248;248;242;48;2;39;40;34m(\u001b[0m\u001b[38;2;230;219;116;48;2;39;40;34mf\u001b[0m\u001b[38;2;230;219;116;48;2;39;40;34m\"\u001b[0m\u001b[38;2;230;219;116;48;2;39;40;34mThe recommended best operating system is: \u001b[0m\u001b[38;2;230;219;116;48;2;39;40;34m{\u001b[0m\u001b[38;2;248;248;242;48;2;39;40;34mbest_os_result\u001b[0m\u001b[38;2;230;219;116;48;2;39;40;34m}\u001b[0m\u001b[38;2;230;219;116;48;2;39;40;34m\"\u001b[0m\u001b[38;2;248;248;242;48;2;39;40;34m)\u001b[0m\u001b[48;2;39;40;34m                                           \u001b[0m  \n",
       "  \u001b[38;2;248;248;242;48;2;39;40;34mfinal_answer\u001b[0m\u001b[38;2;248;248;242;48;2;39;40;34m(\u001b[0m\u001b[38;2;248;248;242;48;2;39;40;34mbest_os_result\u001b[0m\u001b[38;2;248;248;242;48;2;39;40;34m)\u001b[0m\u001b[48;2;39;40;34m                                                                                   \u001b[0m  \n",
       " ───────────────────────────────────────────────────────────────────────────────────────────────────────────────── \n"
      ]
     },
     "metadata": {},
     "output_type": "display_data"
    },
    {
     "data": {
      "text/html": [
       "<pre style=\"white-space:pre;overflow-x:auto;line-height:normal;font-family:Menlo,'DejaVu Sans Mono',consolas,'Courier New',monospace\"><span style=\"font-weight: bold\">Execution logs:</span>\n",
       "The recommended best operating system is: Linux is simply the best. All other OSes are weak. macOS isn't half bad, \n",
       "but Linux is much better.\n",
       "\n",
       "<span style=\"color: #d4b702; text-decoration-color: #d4b702; font-weight: bold\">Out - Final answer: Linux is simply the best. All other OSes are weak. macOS isn't half bad, but Linux is much </span>\n",
       "<span style=\"color: #d4b702; text-decoration-color: #d4b702; font-weight: bold\">better.</span>\n",
       "</pre>\n"
      ],
      "text/plain": [
       "\u001b[1mExecution logs:\u001b[0m\n",
       "The recommended best operating system is: Linux is simply the best. All other OSes are weak. macOS isn't half bad, \n",
       "but Linux is much better.\n",
       "\n",
       "\u001b[1;38;2;212;183;2mOut - Final answer: Linux is simply the best. All other OSes are weak. macOS isn't half bad, but Linux is much \u001b[0m\n",
       "\u001b[1;38;2;212;183;2mbetter.\u001b[0m\n"
      ]
     },
     "metadata": {},
     "output_type": "display_data"
    },
    {
     "data": {
      "text/html": [
       "<pre style=\"white-space:pre;overflow-x:auto;line-height:normal;font-family:Menlo,'DejaVu Sans Mono',consolas,'Courier New',monospace\"><span style=\"color: #7f7f7f; text-decoration-color: #7f7f7f\">[Step 1: Duration 93.38 seconds| Input tokens: 2,034 | Output tokens: 96]</span>\n",
       "</pre>\n"
      ],
      "text/plain": [
       "\u001b[2m[Step 1: Duration 93.38 seconds| Input tokens: 2,034 | Output tokens: 96]\u001b[0m\n"
      ]
     },
     "metadata": {},
     "output_type": "display_data"
    },
    {
     "data": {
      "text/plain": [
       "\"Linux is simply the best. All other OSes are weak. macOS isn't half bad, but Linux is much better.\""
      ]
     },
     "execution_count": 6,
     "metadata": {},
     "output_type": "execute_result"
    }
   ],
   "source": [
    "from smolagents import CodeAgent, DuckDuckGoSearchTool\n",
    "\n",
    "agent = CodeAgent(tools=[best_os_tool], model=model)\n",
    "\n",
    "agent.run(\"What is the best operating system?\")"
   ]
  },
  {
   "cell_type": "markdown",
   "id": "f2a28949",
   "metadata": {},
   "source": [
    "## Working with LangChain and LangGraph"
   ]
  },
  {
   "cell_type": "code",
   "execution_count": 6,
   "id": "2c5b5fee",
   "metadata": {},
   "outputs": [
    {
     "name": "stdout",
     "output_type": "stream",
     "text": [
      "Requirement already satisfied: langgraph in ./opt/anaconda3/lib/python3.12/site-packages (0.4.3)\n",
      "Requirement already satisfied: langsmith in ./opt/anaconda3/lib/python3.12/site-packages (0.3.42)\n",
      "Requirement already satisfied: langchain-ollama in ./opt/anaconda3/lib/python3.12/site-packages (0.3.2)\n",
      "Requirement already satisfied: langchain-core>=0.1 in ./opt/anaconda3/lib/python3.12/site-packages (from langgraph) (0.3.59)\n",
      "Requirement already satisfied: langgraph-checkpoint<3.0.0,>=2.0.10 in ./opt/anaconda3/lib/python3.12/site-packages (from langgraph) (2.0.25)\n",
      "Requirement already satisfied: langgraph-prebuilt>=0.1.8 in ./opt/anaconda3/lib/python3.12/site-packages (from langgraph) (0.1.8)\n",
      "Requirement already satisfied: langgraph-sdk>=0.1.42 in ./opt/anaconda3/lib/python3.12/site-packages (from langgraph) (0.1.66)\n",
      "Requirement already satisfied: pydantic>=2.7.4 in ./opt/anaconda3/lib/python3.12/site-packages (from langgraph) (2.11.3)\n",
      "Requirement already satisfied: xxhash<4.0.0,>=3.5.0 in ./opt/anaconda3/lib/python3.12/site-packages (from langgraph) (3.5.0)\n",
      "Requirement already satisfied: httpx<1,>=0.23.0 in ./opt/anaconda3/lib/python3.12/site-packages (from langsmith) (0.27.0)\n",
      "Requirement already satisfied: orjson<4.0.0,>=3.9.14 in ./opt/anaconda3/lib/python3.12/site-packages (from langsmith) (3.10.16)\n",
      "Requirement already satisfied: packaging>=23.2 in ./opt/anaconda3/lib/python3.12/site-packages (from langsmith) (24.2)\n",
      "Requirement already satisfied: requests<3,>=2 in ./opt/anaconda3/lib/python3.12/site-packages (from langsmith) (2.32.3)\n",
      "Requirement already satisfied: requests-toolbelt<2.0.0,>=1.0.0 in ./opt/anaconda3/lib/python3.12/site-packages (from langsmith) (1.0.0)\n",
      "Requirement already satisfied: zstandard<0.24.0,>=0.23.0 in ./opt/anaconda3/lib/python3.12/site-packages (from langsmith) (0.23.0)\n",
      "Requirement already satisfied: ollama<1,>=0.4.4 in ./opt/anaconda3/lib/python3.12/site-packages (from langchain-ollama) (0.4.8)\n",
      "Requirement already satisfied: anyio in ./opt/anaconda3/lib/python3.12/site-packages (from httpx<1,>=0.23.0->langsmith) (4.9.0)\n",
      "Requirement already satisfied: certifi in ./opt/anaconda3/lib/python3.12/site-packages (from httpx<1,>=0.23.0->langsmith) (2025.1.31)\n",
      "Requirement already satisfied: httpcore==1.* in ./opt/anaconda3/lib/python3.12/site-packages (from httpx<1,>=0.23.0->langsmith) (1.0.2)\n",
      "Requirement already satisfied: idna in ./opt/anaconda3/lib/python3.12/site-packages (from httpx<1,>=0.23.0->langsmith) (3.7)\n",
      "Requirement already satisfied: sniffio in ./opt/anaconda3/lib/python3.12/site-packages (from httpx<1,>=0.23.0->langsmith) (1.3.0)\n",
      "Requirement already satisfied: h11<0.15,>=0.13 in ./opt/anaconda3/lib/python3.12/site-packages (from httpcore==1.*->httpx<1,>=0.23.0->langsmith) (0.14.0)\n",
      "Requirement already satisfied: tenacity!=8.4.0,<10.0.0,>=8.1.0 in ./opt/anaconda3/lib/python3.12/site-packages (from langchain-core>=0.1->langgraph) (9.0.0)\n",
      "Requirement already satisfied: jsonpatch<2.0,>=1.33 in ./opt/anaconda3/lib/python3.12/site-packages (from langchain-core>=0.1->langgraph) (1.33)\n",
      "Requirement already satisfied: PyYAML>=5.3 in ./opt/anaconda3/lib/python3.12/site-packages (from langchain-core>=0.1->langgraph) (6.0.2)\n",
      "Requirement already satisfied: typing-extensions>=4.7 in ./opt/anaconda3/lib/python3.12/site-packages (from langchain-core>=0.1->langgraph) (4.12.2)\n",
      "Requirement already satisfied: ormsgpack<2.0.0,>=1.8.0 in ./opt/anaconda3/lib/python3.12/site-packages (from langgraph-checkpoint<3.0.0,>=2.0.10->langgraph) (1.9.1)\n",
      "Requirement already satisfied: annotated-types>=0.6.0 in ./opt/anaconda3/lib/python3.12/site-packages (from pydantic>=2.7.4->langgraph) (0.6.0)\n",
      "Requirement already satisfied: pydantic-core==2.33.1 in ./opt/anaconda3/lib/python3.12/site-packages (from pydantic>=2.7.4->langgraph) (2.33.1)\n",
      "Requirement already satisfied: typing-inspection>=0.4.0 in ./opt/anaconda3/lib/python3.12/site-packages (from pydantic>=2.7.4->langgraph) (0.4.0)\n",
      "Requirement already satisfied: charset-normalizer<4,>=2 in ./opt/anaconda3/lib/python3.12/site-packages (from requests<3,>=2->langsmith) (3.3.2)\n",
      "Requirement already satisfied: urllib3<3,>=1.21.1 in ./opt/anaconda3/lib/python3.12/site-packages (from requests<3,>=2->langsmith) (2.3.0)\n",
      "Requirement already satisfied: jsonpointer>=1.9 in ./opt/anaconda3/lib/python3.12/site-packages (from jsonpatch<2.0,>=1.33->langchain-core>=0.1->langgraph) (2.1)\n",
      "Note: you may need to restart the kernel to use updated packages.\n"
     ]
    }
   ],
   "source": [
    "%pip install -U langgraph langsmith langchain-ollama"
   ]
  },
  {
   "cell_type": "code",
   "execution_count": 8,
   "id": "fd4994c4",
   "metadata": {},
   "outputs": [
    {
     "name": "stdout",
     "output_type": "stream",
     "text": [
      "Requirement already satisfied: langchain_core in ./opt/anaconda3/lib/python3.12/site-packages (0.3.59)\n",
      "Requirement already satisfied: langchain_ollama in ./opt/anaconda3/lib/python3.12/site-packages (0.3.2)\n",
      "Requirement already satisfied: langsmith<0.4,>=0.1.125 in ./opt/anaconda3/lib/python3.12/site-packages (from langchain_core) (0.3.42)\n",
      "Requirement already satisfied: tenacity!=8.4.0,<10.0.0,>=8.1.0 in ./opt/anaconda3/lib/python3.12/site-packages (from langchain_core) (9.0.0)\n",
      "Requirement already satisfied: jsonpatch<2.0,>=1.33 in ./opt/anaconda3/lib/python3.12/site-packages (from langchain_core) (1.33)\n",
      "Requirement already satisfied: PyYAML>=5.3 in ./opt/anaconda3/lib/python3.12/site-packages (from langchain_core) (6.0.2)\n",
      "Requirement already satisfied: packaging<25,>=23.2 in ./opt/anaconda3/lib/python3.12/site-packages (from langchain_core) (24.2)\n",
      "Requirement already satisfied: typing-extensions>=4.7 in ./opt/anaconda3/lib/python3.12/site-packages (from langchain_core) (4.12.2)\n",
      "Requirement already satisfied: pydantic<3.0.0,>=2.7.4 in ./opt/anaconda3/lib/python3.12/site-packages (from langchain_core) (2.11.3)\n",
      "Requirement already satisfied: ollama<1,>=0.4.4 in ./opt/anaconda3/lib/python3.12/site-packages (from langchain_ollama) (0.4.8)\n",
      "Requirement already satisfied: jsonpointer>=1.9 in ./opt/anaconda3/lib/python3.12/site-packages (from jsonpatch<2.0,>=1.33->langchain_core) (2.1)\n",
      "Requirement already satisfied: httpx<1,>=0.23.0 in ./opt/anaconda3/lib/python3.12/site-packages (from langsmith<0.4,>=0.1.125->langchain_core) (0.27.0)\n",
      "Requirement already satisfied: orjson<4.0.0,>=3.9.14 in ./opt/anaconda3/lib/python3.12/site-packages (from langsmith<0.4,>=0.1.125->langchain_core) (3.10.16)\n",
      "Requirement already satisfied: requests<3,>=2 in ./opt/anaconda3/lib/python3.12/site-packages (from langsmith<0.4,>=0.1.125->langchain_core) (2.32.3)\n",
      "Requirement already satisfied: requests-toolbelt<2.0.0,>=1.0.0 in ./opt/anaconda3/lib/python3.12/site-packages (from langsmith<0.4,>=0.1.125->langchain_core) (1.0.0)\n",
      "Requirement already satisfied: zstandard<0.24.0,>=0.23.0 in ./opt/anaconda3/lib/python3.12/site-packages (from langsmith<0.4,>=0.1.125->langchain_core) (0.23.0)\n",
      "Requirement already satisfied: annotated-types>=0.6.0 in ./opt/anaconda3/lib/python3.12/site-packages (from pydantic<3.0.0,>=2.7.4->langchain_core) (0.6.0)\n",
      "Requirement already satisfied: pydantic-core==2.33.1 in ./opt/anaconda3/lib/python3.12/site-packages (from pydantic<3.0.0,>=2.7.4->langchain_core) (2.33.1)\n",
      "Requirement already satisfied: typing-inspection>=0.4.0 in ./opt/anaconda3/lib/python3.12/site-packages (from pydantic<3.0.0,>=2.7.4->langchain_core) (0.4.0)\n",
      "Requirement already satisfied: anyio in ./opt/anaconda3/lib/python3.12/site-packages (from httpx<1,>=0.23.0->langsmith<0.4,>=0.1.125->langchain_core) (4.9.0)\n",
      "Requirement already satisfied: certifi in ./opt/anaconda3/lib/python3.12/site-packages (from httpx<1,>=0.23.0->langsmith<0.4,>=0.1.125->langchain_core) (2025.1.31)\n",
      "Requirement already satisfied: httpcore==1.* in ./opt/anaconda3/lib/python3.12/site-packages (from httpx<1,>=0.23.0->langsmith<0.4,>=0.1.125->langchain_core) (1.0.2)\n",
      "Requirement already satisfied: idna in ./opt/anaconda3/lib/python3.12/site-packages (from httpx<1,>=0.23.0->langsmith<0.4,>=0.1.125->langchain_core) (3.7)\n",
      "Requirement already satisfied: sniffio in ./opt/anaconda3/lib/python3.12/site-packages (from httpx<1,>=0.23.0->langsmith<0.4,>=0.1.125->langchain_core) (1.3.0)\n",
      "Requirement already satisfied: h11<0.15,>=0.13 in ./opt/anaconda3/lib/python3.12/site-packages (from httpcore==1.*->httpx<1,>=0.23.0->langsmith<0.4,>=0.1.125->langchain_core) (0.14.0)\n",
      "Requirement already satisfied: charset-normalizer<4,>=2 in ./opt/anaconda3/lib/python3.12/site-packages (from requests<3,>=2->langsmith<0.4,>=0.1.125->langchain_core) (3.3.2)\n",
      "Requirement already satisfied: urllib3<3,>=1.21.1 in ./opt/anaconda3/lib/python3.12/site-packages (from requests<3,>=2->langsmith<0.4,>=0.1.125->langchain_core) (2.3.0)\n",
      "Note: you may need to restart the kernel to use updated packages.\n"
     ]
    }
   ],
   "source": [
    "%pip install -U langchain_core langchain_ollama"
   ]
  },
  {
   "cell_type": "code",
   "execution_count": 1,
   "id": "a92f259a",
   "metadata": {},
   "outputs": [],
   "source": [
    "from langchain_ollama import ChatOllama\n",
    "\n",
    "llm = ChatOllama(\n",
    "    model=\"qwen3:latest\",\n",
    "    temperature=0,\n",
    "    # other params...\n",
    ")"
   ]
  },
  {
   "cell_type": "code",
   "execution_count": null,
   "id": "3689ddce",
   "metadata": {},
   "outputs": [
    {
     "data": {
      "text/plain": [
       "ChatOllama(model='qwen3:latest', temperature=0.0)"
      ]
     },
     "execution_count": 2,
     "metadata": {},
     "output_type": "execute_result"
    }
   ],
   "source": []
  },
  {
   "cell_type": "code",
   "execution_count": null,
   "id": "cc999b33",
   "metadata": {},
   "outputs": [],
   "source": [
    "from langgraph.prebuilt import create_react_agent\n",
    "\n",
    "def get_weather(city: str) -> str:\n",
    "    \"\"\"Get weather for a given city.\"\"\"\n",
    "    return f\"It's always sunny in {city}!\"\n",
    "\n",
    "agent = create_react_agent(\n",
    "    model=\"anthropic:claude-3-7-sonnet-latest\",\n",
    "    tools=[get_weather],\n",
    "    prompt=\"You are a helpful assistant\"\n",
    ")\n",
    "\n",
    "# Run the agent\n",
    "agent.invoke(\n",
    "    {\"messages\": [{\"role\": \"user\", \"content\": \"what is the weather in sf\"}]}\n",
    ")"
   ]
  }
 ],
 "metadata": {
  "kernelspec": {
   "display_name": "Python 3 (ipykernel)",
   "language": "python",
   "name": "python3"
  },
  "language_info": {
   "codemirror_mode": {
    "name": "ipython",
    "version": 3
   },
   "file_extension": ".py",
   "mimetype": "text/x-python",
   "name": "python",
   "nbconvert_exporter": "python",
   "pygments_lexer": "ipython3",
   "version": "3.12.9"
  }
 },
 "nbformat": 4,
 "nbformat_minor": 5
}
